{
 "cells": [
  {
   "cell_type": "markdown",
   "metadata": {},
   "source": [
    "# Notebook de debug\n",
    "\n",
    "notebook para ir probando algunas cosas en vivo sin tener que recurrir al navegador"
   ]
  },
  {
   "cell_type": "markdown",
   "metadata": {},
   "source": [
    "# Setup del notebook\n",
    "\n",
    "Cosas previas a tener seteadas para que el codigo funcione"
   ]
  },
  {
   "cell_type": "code",
   "execution_count": 3,
   "metadata": {},
   "outputs": [],
   "source": [
    "import sqlite3\n",
    "import pandas as pd\n",
    "import os"
   ]
  },
  {
   "cell_type": "code",
   "execution_count": 4,
   "metadata": {},
   "outputs": [
    {
     "data": {
      "text/plain": [
       "'/home/tomas/workspace/uba/sr/sr-tpfinal-gh-web'"
      ]
     },
     "execution_count": 4,
     "metadata": {},
     "output_type": "execute_result"
    }
   ],
   "source": [
    "THIS_FOLDER = os.path.dirname(os.path.abspath(\"__file__\"))\n",
    "THIS_FOLDER"
   ]
  },
  {
   "cell_type": "code",
   "execution_count": 5,
   "metadata": {},
   "outputs": [],
   "source": [
    "interacciones = 'interactions'\n",
    "items = 'repositories'\n",
    "users = 'users'"
   ]
  },
  {
   "cell_type": "markdown",
   "metadata": {},
   "source": [
    "# Datasets\n",
    "\n",
    "carga de los datasets desde la base sqlite"
   ]
  },
  {
   "cell_type": "code",
   "execution_count": 6,
   "metadata": {},
   "outputs": [],
   "source": [
    "con = sqlite3.connect(os.path.join(THIS_FOLDER, \"data/data.db\"))\n",
    "df_int = pd.read_sql_query(f\"SELECT * FROM {interacciones}\", con)\n",
    "original_df_items = pd.read_sql_query(f\"SELECT * FROM {items}\", con)\n",
    "df_users = pd.read_sql_query(f\"SELECT * FROM {users}\", con)\n",
    "con.close()"
   ]
  },
  {
   "cell_type": "code",
   "execution_count": 7,
   "metadata": {},
   "outputs": [
    {
     "data": {
      "image/png": "[encoded data removed]",
      "text/plain": [
       "<Figure size 640x480 with 1 Axes>"
      ]
     },
     "metadata": {},
     "output_type": "display_data"
    }
   ],
   "source": [
    "#original_df_items.archived.value_counts()\n",
    "original_df_items.forks.value_counts().hist(log=True);"
   ]
  },
  {
   "cell_type": "code",
   "execution_count": 8,
   "metadata": {},
   "outputs": [],
   "source": [
    "df_items = original_df_items.drop([\"es_fork\", \"about\", \"archived\", \"topics\", \"language\"], axis=1)"
   ]
  },
  {
   "cell_type": "code",
   "execution_count": 9,
   "metadata": {},
   "outputs": [
    {
     "data": {
      "text/html": [
       "<div>\n",
       "<style scoped>\n",
       "    .dataframe tbody tr th:only-of-type {\n",
       "        vertical-align: middle;\n",
       "    }\n",
       "\n",
       "    .dataframe tbody tr th {\n",
       "        vertical-align: top;\n",
       "    }\n",
       "\n",
       "    .dataframe thead th {\n",
       "        text-align: right;\n",
       "    }\n",
       "</style>\n",
       "<table border=\"1\" class=\"dataframe\">\n",
       "  <thead>\n",
       "    <tr style=\"text-align: right;\">\n",
       "      <th></th>\n",
       "      <th>index</th>\n",
       "      <th>repository</th>\n",
       "      <th>user</th>\n",
       "      <th>date</th>\n",
       "    </tr>\n",
       "  </thead>\n",
       "  <tbody>\n",
       "    <tr>\n",
       "      <th>0</th>\n",
       "      <td>0.0</td>\n",
       "      <td>tensorflow/tensorflow</td>\n",
       "      <td>mrry</td>\n",
       "      <td>2015-11-09 13:17:30</td>\n",
       "    </tr>\n",
       "    <tr>\n",
       "      <th>1</th>\n",
       "      <td>1.0</td>\n",
       "      <td>tensorflow/tensorflow</td>\n",
       "      <td>danbri</td>\n",
       "      <td>2015-11-09 13:18:49</td>\n",
       "    </tr>\n",
       "    <tr>\n",
       "      <th>2</th>\n",
       "      <td>2.0</td>\n",
       "      <td>tensorflow/tensorflow</td>\n",
       "      <td>rockt</td>\n",
       "      <td>2015-11-09 13:40:12</td>\n",
       "    </tr>\n",
       "    <tr>\n",
       "      <th>3</th>\n",
       "      <td>3.0</td>\n",
       "      <td>tensorflow/tensorflow</td>\n",
       "      <td>petro-rudenko</td>\n",
       "      <td>2015-11-09 13:40:58</td>\n",
       "    </tr>\n",
       "    <tr>\n",
       "      <th>4</th>\n",
       "      <td>4.0</td>\n",
       "      <td>huggingface/transformers</td>\n",
       "      <td>kashif</td>\n",
       "      <td>2018-11-05 15:19:44</td>\n",
       "    </tr>\n",
       "    <tr>\n",
       "      <th>...</th>\n",
       "      <td>...</td>\n",
       "      <td>...</td>\n",
       "      <td>...</td>\n",
       "      <td>...</td>\n",
       "    </tr>\n",
       "    <tr>\n",
       "      <th>22021</th>\n",
       "      <td>NaN</td>\n",
       "      <td>SerpentAI/SerpentAI</td>\n",
       "      <td>fly51fly</td>\n",
       "      <td>2023-11-27 19:39:38</td>\n",
       "    </tr>\n",
       "    <tr>\n",
       "      <th>22022</th>\n",
       "      <td>NaN</td>\n",
       "      <td>bbfamily/abu</td>\n",
       "      <td>fly51fly</td>\n",
       "      <td>2023-12-04 20:45:49</td>\n",
       "    </tr>\n",
       "    <tr>\n",
       "      <th>22023</th>\n",
       "      <td>NaN</td>\n",
       "      <td>streamlit/streamlit</td>\n",
       "      <td>fly51fly</td>\n",
       "      <td>2023-12-07 19:40:48</td>\n",
       "    </tr>\n",
       "    <tr>\n",
       "      <th>22024</th>\n",
       "      <td>NaN</td>\n",
       "      <td>jackzhenguo/python-small-examples</td>\n",
       "      <td>fly51fly</td>\n",
       "      <td>2023-12-07 19:40:46</td>\n",
       "    </tr>\n",
       "    <tr>\n",
       "      <th>22025</th>\n",
       "      <td>NaN</td>\n",
       "      <td>huggingface/transformers</td>\n",
       "      <td>fly51fly</td>\n",
       "      <td>2023-12-09 20:57:55</td>\n",
       "    </tr>\n",
       "  </tbody>\n",
       "</table>\n",
       "<p>22026 rows × 4 columns</p>\n",
       "</div>"
      ],
      "text/plain": [
       "       index                         repository           user  \\\n",
       "0        0.0              tensorflow/tensorflow           mrry   \n",
       "1        1.0              tensorflow/tensorflow         danbri   \n",
       "2        2.0              tensorflow/tensorflow          rockt   \n",
       "3        3.0              tensorflow/tensorflow  petro-rudenko   \n",
       "4        4.0           huggingface/transformers         kashif   \n",
       "...      ...                                ...            ...   \n",
       "22021    NaN                SerpentAI/SerpentAI       fly51fly   \n",
       "22022    NaN                       bbfamily/abu       fly51fly   \n",
       "22023    NaN                streamlit/streamlit       fly51fly   \n",
       "22024    NaN  jackzhenguo/python-small-examples       fly51fly   \n",
       "22025    NaN           huggingface/transformers       fly51fly   \n",
       "\n",
       "                      date  \n",
       "0      2015-11-09 13:17:30  \n",
       "1      2015-11-09 13:18:49  \n",
       "2      2015-11-09 13:40:12  \n",
       "3      2015-11-09 13:40:58  \n",
       "4      2018-11-05 15:19:44  \n",
       "...                    ...  \n",
       "22021  2023-11-27 19:39:38  \n",
       "22022  2023-12-04 20:45:49  \n",
       "22023  2023-12-07 19:40:48  \n",
       "22024  2023-12-07 19:40:46  \n",
       "22025  2023-12-09 20:57:55  \n",
       "\n",
       "[22026 rows x 4 columns]"
      ]
     },
     "execution_count": 9,
     "metadata": {},
     "output_type": "execute_result"
    }
   ],
   "source": [
    "df_int"
   ]
  },
  {
   "cell_type": "markdown",
   "metadata": {},
   "source": [
    "# Trabajando con los lenguajes\n",
    "\n",
    "Se trabaja con los lenguajes de programación"
   ]
  },
  {
   "cell_type": "code",
   "execution_count": 119,
   "metadata": {},
   "outputs": [
    {
     "data": {
      "text/plain": [
       "(263, 1182)"
      ]
     },
     "execution_count": 119,
     "metadata": {},
     "output_type": "execute_result"
    }
   ],
   "source": [
    "# dummy de lenguajes y topics\n",
    "df_languaje_dummies = original_df_items.language.str.get_dummies(sep=\";\")\n",
    "df_topics_dummies = original_df_items.topics.str.get_dummies(sep=\";\")\n",
    "df_perfil_items = pd.concat([df_items, df_languaje_dummies, df_topics_dummies], axis=1)\n",
    "\n",
    "# este perfil se puede precalcular offline y modificarlo ante cada cambio\n",
    "df_perfil_items.shape"
   ]
  },
  {
   "cell_type": "code",
   "execution_count": 120,
   "metadata": {},
   "outputs": [
    {
     "data": {
      "text/plain": [
       "Shell                  0.048611\n",
       "HTML                   0.034722\n",
       "Python                 0.034722\n",
       "C++                    0.034722\n",
       "JavaScript             0.034722\n",
       "                         ...   \n",
       "examples               0.000000\n",
       "exif                   0.000000\n",
       "experiment-track       0.000000\n",
       "experiment-tracking    0.000000\n",
       "zvt                    0.000000\n",
       "Length: 1175, dtype: float64"
      ]
     },
     "execution_count": 120,
     "metadata": {},
     "output_type": "execute_result"
    }
   ],
   "source": [
    "# usuario de quien construiremos el perfil\n",
    "#username = \"fly51fly\" # user con 133 interacciones\n",
    "username = \"oudommeas\" # user con 20 interacciones\n",
    "#username = \"zmughal\" # user con 10 interacciones\n",
    "#df_int[\"date\"] = pd.to_datetime(df_int[\"date\"], format=\"%Y-%m-%d %H:%M:%S\")\n",
    "repos_user = df_int.loc[\n",
    "    (df_int[\"user\"] == username),\n",
    "    \"repository\"].to_list()\n",
    "\n",
    "# me quedo con el perfil del usuario de los repos que le gustaron\n",
    "perfil_user = df_perfil_items[df_perfil_items[\"id\"].isin(repos_user)].drop(columns=[\"id\", \"index\", \"stars\", \"watchers\", \"forks\", \"issues\", \"subscribers\"]).sum(axis=0).sort_values(ascending=False)\n",
    "perfil_user = perfil_user / perfil_user.sum() # normalizo\n",
    "\n",
    "# este perfil se puede precalcular offline y modificarlo ante cada cambio\n",
    "perfil_user"
   ]
  },
  {
   "cell_type": "code",
   "execution_count": 121,
   "metadata": {},
   "outputs": [
    {
     "data": {
      "text/plain": [
       "['ray-project/ray',\n",
       " 'TarrySingh/Artificial-Intelligence-Deep-Learning-Machine-Learning-Tutorials',\n",
       " 'catboost/catboost',\n",
       " 'pytorch/pytorch',\n",
       " 'microsoft/computervision-recipes',\n",
       " 'tensorflow/tensorflow',\n",
       " 'h2oai/h2o-3',\n",
       " 'explosion/spaCy',\n",
       " 'apple/turicreate',\n",
       " 'spmallick/learnopencv']"
      ]
     },
     "execution_count": 121,
     "metadata": {},
     "output_type": "execute_result"
    }
   ],
   "source": [
    "df_perfil_user = df_perfil_items.drop(columns=[\"index\", \"stars\", \"watchers\", \"forks\", \"issues\", \"subscribers\"]).set_index(\"id\").copy()\n",
    "\n",
    "# por ahora dimension son lenguajes, pero podria haber topics\n",
    "for dimension in df_perfil_user.columns:\n",
    "    df_perfil_user[dimension] = df_perfil_user[dimension] * perfil_user[dimension]\n",
    "\n",
    "#recomendacion = df_perfil_user.sum(axis=1).sort_values(ascending=False)[:10].index\n",
    "\n",
    "rank = df_perfil_user.sum(axis=1).sort_values(ascending=False)[:10]\n",
    "df_recomendacion_scores = pd.DataFrame({'repository': rank.index, 'score': rank.values})\n",
    "df_recomendacion_scores\n",
    "\n",
    "df_recomendacion_fechas = (df_int[df_int[\"repository\"].isin(list(df_recomendacion_scores.repository))].sort_values('date').groupby('repository').tail(1))[[\"repository\", \"date\"]]\n",
    "df_recomendacion_fechas\n",
    "\n",
    "df_recomendacion = pd.merge(df_recomendacion_fechas, df_recomendacion_scores, on=\"repository\")#.sort_values(['score', 'date'], ascending=[False, False])\n",
    "#df_recomendacion[\"date\"] = pd.to_datetime(df_recomendacion[\"date\"], format=\"%Y-%m-%d %H:%M:%S\")\n",
    "df_recomendacion[\"date\"] = pd.to_datetime(df_recomendacion[\"date\"])\n",
    "df_recomendacion = df_recomendacion.sort_values(['score', 'date'], ascending=[False, False])\n",
    "list(df_recomendacion.reset_index(drop=True).repository)"
   ]
  },
  {
   "cell_type": "code",
   "execution_count": 122,
   "metadata": {},
   "outputs": [
    {
     "data": {
      "text/plain": [
       "{'repository': {4: 'ray-project/ray',\n",
       "  6: 'TarrySingh/Artificial-Intelligence-Deep-Learning-Machine-Learning-Tutorials',\n",
       "  5: 'catboost/catboost',\n",
       "  9: 'pytorch/pytorch',\n",
       "  8: 'microsoft/computervision-recipes',\n",
       "  2: 'tensorflow/tensorflow',\n",
       "  1: 'h2oai/h2o-3',\n",
       "  0: 'explosion/spaCy',\n",
       "  7: 'apple/turicreate',\n",
       "  3: 'spmallick/learnopencv'},\n",
       " 'date': {4: Timestamp('2017-04-01 04:49:49'),\n",
       "  6: Timestamp('2017-08-19 17:41:46'),\n",
       "  5: Timestamp('2017-07-18 10:08:39'),\n",
       "  9: Timestamp('2023-11-27 19:38:55'),\n",
       "  8: Timestamp('2019-10-08 11:03:07'),\n",
       "  2: Timestamp('2015-11-09 14:39:29'),\n",
       "  1: Timestamp('2015-02-16 21:20:16'),\n",
       "  0: Timestamp('2015-01-25 18:38:41'),\n",
       "  7: Timestamp('2017-12-08 22:46:39'),\n",
       "  3: Timestamp('2016-03-19 14:05:53')},\n",
       " 'score': {4: 0.5555555555555552,\n",
       "  6: 0.43055555555555536,\n",
       "  5: 0.41666666666666663,\n",
       "  9: 0.4027777777777778,\n",
       "  8: 0.375,\n",
       "  2: 0.3680555555555555,\n",
       "  1: 0.36111111111111105,\n",
       "  0: 0.36111111111111105,\n",
       "  7: 0.3541666666666667,\n",
       "  3: 0.35416666666666663}}"
      ]
     },
     "execution_count": 122,
     "metadata": {},
     "output_type": "execute_result"
    }
   ],
   "source": [
    "recomendaciones = [r for r in df_recomendacion.items()]\n",
    "recomendaciones\n",
    "df_recomendacion.to_dict()"
   ]
  },
  {
   "cell_type": "markdown",
   "metadata": {},
   "source": [
    "# Codigo de prueba"
   ]
  },
  {
   "cell_type": "code",
   "execution_count": 67,
   "metadata": {},
   "outputs": [
    {
     "data": {
      "text/html": [
       "<div>\n",
       "<style scoped>\n",
       "    .dataframe tbody tr th:only-of-type {\n",
       "        vertical-align: middle;\n",
       "    }\n",
       "\n",
       "    .dataframe tbody tr th {\n",
       "        vertical-align: top;\n",
       "    }\n",
       "\n",
       "    .dataframe thead th {\n",
       "        text-align: right;\n",
       "    }\n",
       "</style>\n",
       "<table border=\"1\" class=\"dataframe\">\n",
       "  <thead>\n",
       "    <tr style=\"text-align: right;\">\n",
       "      <th></th>\n",
       "      <th>repository</th>\n",
       "      <th>date</th>\n",
       "    </tr>\n",
       "  </thead>\n",
       "  <tbody>\n",
       "    <tr>\n",
       "      <th>5987</th>\n",
       "      <td>explosion/spaCy</td>\n",
       "      <td>2015-01-25 18:38:41</td>\n",
       "    </tr>\n",
       "    <tr>\n",
       "      <th>5273</th>\n",
       "      <td>tensorflow/tensorflow</td>\n",
       "      <td>2015-11-09 14:39:29</td>\n",
       "    </tr>\n",
       "    <tr>\n",
       "      <th>6599</th>\n",
       "      <td>spmallick/learnopencv</td>\n",
       "      <td>2016-03-19 14:05:53</td>\n",
       "    </tr>\n",
       "    <tr>\n",
       "      <th>5885</th>\n",
       "      <td>ray-project/ray</td>\n",
       "      <td>2017-04-01 04:49:49</td>\n",
       "    </tr>\n",
       "    <tr>\n",
       "      <th>9302</th>\n",
       "      <td>catboost/catboost</td>\n",
       "      <td>2017-07-18 10:08:39</td>\n",
       "    </tr>\n",
       "    <tr>\n",
       "      <th>12872</th>\n",
       "      <td>TarrySingh/Artificial-Intelligence-Deep-Learni...</td>\n",
       "      <td>2017-08-19 17:41:46</td>\n",
       "    </tr>\n",
       "    <tr>\n",
       "      <th>7721</th>\n",
       "      <td>apple/turicreate</td>\n",
       "      <td>2017-12-08 22:46:39</td>\n",
       "    </tr>\n",
       "    <tr>\n",
       "      <th>8231</th>\n",
       "      <td>microsoft/computervision-recipes</td>\n",
       "      <td>2019-10-08 11:03:07</td>\n",
       "    </tr>\n",
       "    <tr>\n",
       "      <th>21191</th>\n",
       "      <td>kumikohime/gdrtmidi</td>\n",
       "      <td>2023-04-04 19:42:33</td>\n",
       "    </tr>\n",
       "    <tr>\n",
       "      <th>22002</th>\n",
       "      <td>pytorch/pytorch</td>\n",
       "      <td>2023-11-27 19:38:55</td>\n",
       "    </tr>\n",
       "  </tbody>\n",
       "</table>\n",
       "</div>"
      ],
      "text/plain": [
       "                                              repository                 date\n",
       "5987                                     explosion/spaCy  2015-01-25 18:38:41\n",
       "5273                               tensorflow/tensorflow  2015-11-09 14:39:29\n",
       "6599                               spmallick/learnopencv  2016-03-19 14:05:53\n",
       "5885                                     ray-project/ray  2017-04-01 04:49:49\n",
       "9302                                   catboost/catboost  2017-07-18 10:08:39\n",
       "12872  TarrySingh/Artificial-Intelligence-Deep-Learni...  2017-08-19 17:41:46\n",
       "7721                                    apple/turicreate  2017-12-08 22:46:39\n",
       "8231                    microsoft/computervision-recipes  2019-10-08 11:03:07\n",
       "21191                                kumikohime/gdrtmidi  2023-04-04 19:42:33\n",
       "22002                                    pytorch/pytorch  2023-11-27 19:38:55"
      ]
     },
     "execution_count": 67,
     "metadata": {},
     "output_type": "execute_result"
    }
   ],
   "source": [
    "#perfil_user = df_perfil_items[df_perfil_items[\"id\"].isin(repos_user)].drop(columns=[\"id\", \"index\"]).sum(axis=0).sort_values(ascending=False)\n",
    "#perfil_user = df_perfil_items[df_perfil_items[\"id\"].isin(repos_user)].drop(columns=[\"id\", \"index\"]).sum(axis=0)#.reset_index()\n",
    "\n",
    "#df_int.groupby('date')#['repository'].idxmax()\n",
    "#df_int[(df_int[\"repository\"].isin(rank.index)) & (df_int[\"date\"] == df_int[\"date\"].max())]\n",
    "#df_int.drop(columns=['user'])[df_int.groupby('repository').date.transform('max') == df_int.date]\n",
    "#(df_int[df_int[\"repository\"].isin(recomendacion)].sort_values('date').groupby('repository').tail(1))[[\"repository\", \"date\"]]\n",
    "\n",
    "#df_int[df_int[\"repository\"] == 'explosion/spaCy'].sort_values('date')"
   ]
  },
  {
   "cell_type": "code",
   "execution_count": 61,
   "metadata": {},
   "outputs": [
    {
     "data": {
      "text/html": [
       "<div>\n",
       "<style scoped>\n",
       "    .dataframe tbody tr th:only-of-type {\n",
       "        vertical-align: middle;\n",
       "    }\n",
       "\n",
       "    .dataframe tbody tr th {\n",
       "        vertical-align: top;\n",
       "    }\n",
       "\n",
       "    .dataframe thead th {\n",
       "        text-align: right;\n",
       "    }\n",
       "</style>\n",
       "<table border=\"1\" class=\"dataframe\">\n",
       "  <thead>\n",
       "    <tr style=\"text-align: right;\">\n",
       "      <th></th>\n",
       "      <th>index</th>\n",
       "      <th>repository</th>\n",
       "      <th>user</th>\n",
       "      <th>date</th>\n",
       "    </tr>\n",
       "  </thead>\n",
       "  <tbody>\n",
       "    <tr>\n",
       "      <th>786</th>\n",
       "      <td>786.0</td>\n",
       "      <td>explosion/spaCy</td>\n",
       "      <td>ddaniels</td>\n",
       "      <td>2014-07-28 14:16:45</td>\n",
       "    </tr>\n",
       "    <tr>\n",
       "      <th>787</th>\n",
       "      <td>787.0</td>\n",
       "      <td>explosion/spaCy</td>\n",
       "      <td>Smerity</td>\n",
       "      <td>2014-07-30 22:45:10</td>\n",
       "    </tr>\n",
       "    <tr>\n",
       "      <th>788</th>\n",
       "      <td>788.0</td>\n",
       "      <td>explosion/spaCy</td>\n",
       "      <td>geovedi</td>\n",
       "      <td>2014-11-22 09:52:58</td>\n",
       "    </tr>\n",
       "    <tr>\n",
       "      <th>789</th>\n",
       "      <td>789.0</td>\n",
       "      <td>explosion/spaCy</td>\n",
       "      <td>widnyana</td>\n",
       "      <td>2014-11-23 17:56:35</td>\n",
       "    </tr>\n",
       "    <tr>\n",
       "      <th>790</th>\n",
       "      <td>790.0</td>\n",
       "      <td>explosion/spaCy</td>\n",
       "      <td>extempore</td>\n",
       "      <td>2014-12-19 15:22:37</td>\n",
       "    </tr>\n",
       "    <tr>\n",
       "      <th>...</th>\n",
       "      <td>...</td>\n",
       "      <td>...</td>\n",
       "      <td>...</td>\n",
       "      <td>...</td>\n",
       "    </tr>\n",
       "    <tr>\n",
       "      <th>5983</th>\n",
       "      <td>5983.0</td>\n",
       "      <td>explosion/spaCy</td>\n",
       "      <td>jkrukowski</td>\n",
       "      <td>2015-01-25 18:27:22</td>\n",
       "    </tr>\n",
       "    <tr>\n",
       "      <th>5984</th>\n",
       "      <td>5984.0</td>\n",
       "      <td>explosion/spaCy</td>\n",
       "      <td>programLyrique</td>\n",
       "      <td>2015-01-25 18:31:23</td>\n",
       "    </tr>\n",
       "    <tr>\n",
       "      <th>5985</th>\n",
       "      <td>5985.0</td>\n",
       "      <td>explosion/spaCy</td>\n",
       "      <td>parindam</td>\n",
       "      <td>2015-01-25 18:34:20</td>\n",
       "    </tr>\n",
       "    <tr>\n",
       "      <th>5986</th>\n",
       "      <td>5986.0</td>\n",
       "      <td>explosion/spaCy</td>\n",
       "      <td>bllchmbrs</td>\n",
       "      <td>2015-01-25 18:38:06</td>\n",
       "    </tr>\n",
       "    <tr>\n",
       "      <th>5987</th>\n",
       "      <td>5987.0</td>\n",
       "      <td>explosion/spaCy</td>\n",
       "      <td>pukkaone</td>\n",
       "      <td>2015-01-25 18:38:41</td>\n",
       "    </tr>\n",
       "  </tbody>\n",
       "</table>\n",
       "<p>102 rows × 4 columns</p>\n",
       "</div>"
      ],
      "text/plain": [
       "       index       repository            user                 date\n",
       "786    786.0  explosion/spaCy        ddaniels  2014-07-28 14:16:45\n",
       "787    787.0  explosion/spaCy         Smerity  2014-07-30 22:45:10\n",
       "788    788.0  explosion/spaCy         geovedi  2014-11-22 09:52:58\n",
       "789    789.0  explosion/spaCy        widnyana  2014-11-23 17:56:35\n",
       "790    790.0  explosion/spaCy       extempore  2014-12-19 15:22:37\n",
       "...      ...              ...             ...                  ...\n",
       "5983  5983.0  explosion/spaCy      jkrukowski  2015-01-25 18:27:22\n",
       "5984  5984.0  explosion/spaCy  programLyrique  2015-01-25 18:31:23\n",
       "5985  5985.0  explosion/spaCy        parindam  2015-01-25 18:34:20\n",
       "5986  5986.0  explosion/spaCy       bllchmbrs  2015-01-25 18:38:06\n",
       "5987  5987.0  explosion/spaCy        pukkaone  2015-01-25 18:38:41\n",
       "\n",
       "[102 rows x 4 columns]"
      ]
     },
     "execution_count": 61,
     "metadata": {},
     "output_type": "execute_result"
    }
   ],
   "source": []
  }
 ],
 "metadata": {
  "kernelspec": {
   "display_name": ".venv",
   "language": "python",
   "name": "python3"
  },
  "language_info": {
   "codemirror_mode": {
    "name": "ipython",
    "version": 3
   },
   "file_extension": ".py",
   "mimetype": "text/x-python",
   "name": "python",
   "nbconvert_exporter": "python",
   "pygments_lexer": "ipython3",
   "version": "3.10.12"
  }
 },
 "nbformat": 4,
 "nbformat_minor": 2
}
