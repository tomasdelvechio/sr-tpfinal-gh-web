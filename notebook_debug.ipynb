{
 "cells": [
  {
   "cell_type": "markdown",
   "metadata": {},
   "source": [
    "# Notebook de debug\n",
    "\n",
    "notebook para ir probando algunas cosas en vivo sin tener que recurrir al navegador"
   ]
  },
  {
   "cell_type": "markdown",
   "metadata": {},
   "source": [
    "# Setup del notebook\n",
    "\n",
    "Cosas previas a tener seteadas para que el codigo funcione"
   ]
  },
  {
   "cell_type": "code",
   "execution_count": 1,
   "metadata": {},
   "outputs": [],
   "source": [
    "import sqlite3\n",
    "import pandas as pd\n",
    "import os"
   ]
  },
  {
   "cell_type": "code",
   "execution_count": 2,
   "metadata": {},
   "outputs": [
    {
     "data": {
      "text/plain": [
       "'/home/tomas/workspace/uba/sr/sr-tpfinal-gh-web'"
      ]
     },
     "execution_count": 2,
     "metadata": {},
     "output_type": "execute_result"
    }
   ],
   "source": [
    "THIS_FOLDER = os.path.dirname(os.path.abspath(\"__file__\"))\n",
    "THIS_FOLDER"
   ]
  },
  {
   "cell_type": "code",
   "execution_count": 3,
   "metadata": {},
   "outputs": [],
   "source": [
    "interacciones = 'interactions'\n",
    "items = 'repositories'\n",
    "users = 'users'"
   ]
  },
  {
   "cell_type": "markdown",
   "metadata": {},
   "source": [
    "# Datasets\n",
    "\n",
    "carga de los datasets desde la base sqlite"
   ]
  },
  {
   "cell_type": "code",
   "execution_count": 4,
   "metadata": {},
   "outputs": [],
   "source": [
    "con = sqlite3.connect(os.path.join(THIS_FOLDER, \"data/data.db\"))\n",
    "df_int = pd.read_sql_query(f\"SELECT * FROM {interacciones}\", con)\n",
    "original_df_items = pd.read_sql_query(f\"SELECT * FROM {items}\", con)\n",
    "df_users = pd.read_sql_query(f\"SELECT * FROM {users}\", con)\n",
    "con.close()"
   ]
  },
  {
   "cell_type": "code",
   "execution_count": 5,
   "metadata": {},
   "outputs": [
    {
     "data": {
      "image/png": "[encoded data removed]",
      "text/plain": [
       "<Figure size 640x480 with 1 Axes>"
      ]
     },
     "metadata": {},
     "output_type": "display_data"
    }
   ],
   "source": [
    "#original_df_items.archived.value_counts()\n",
    "original_df_items.forks.value_counts().hist(log=True);"
   ]
  },
  {
   "cell_type": "code",
   "execution_count": 6,
   "metadata": {},
   "outputs": [],
   "source": [
    "df_items = original_df_items.drop([\"es_fork\", \"about\", \"archived\", \"topics\", \"language\"], axis=1)"
   ]
  },
  {
   "cell_type": "code",
   "execution_count": 7,
   "metadata": {},
   "outputs": [
    {
     "data": {
      "text/html": [
       "<div>\n",
       "<style scoped>\n",
       "    .dataframe tbody tr th:only-of-type {\n",
       "        vertical-align: middle;\n",
       "    }\n",
       "\n",
       "    .dataframe tbody tr th {\n",
       "        vertical-align: top;\n",
       "    }\n",
       "\n",
       "    .dataframe thead th {\n",
       "        text-align: right;\n",
       "    }\n",
       "</style>\n",
       "<table border=\"1\" class=\"dataframe\">\n",
       "  <thead>\n",
       "    <tr style=\"text-align: right;\">\n",
       "      <th></th>\n",
       "      <th>index</th>\n",
       "      <th>repository</th>\n",
       "      <th>user</th>\n",
       "      <th>date</th>\n",
       "      <th>like</th>\n",
       "    </tr>\n",
       "  </thead>\n",
       "  <tbody>\n",
       "    <tr>\n",
       "      <th>0</th>\n",
       "      <td>0.0</td>\n",
       "      <td>tensorflow/tensorflow</td>\n",
       "      <td>mrry</td>\n",
       "      <td>2015-11-09 13:17:30</td>\n",
       "      <td>1</td>\n",
       "    </tr>\n",
       "    <tr>\n",
       "      <th>1</th>\n",
       "      <td>1.0</td>\n",
       "      <td>tensorflow/tensorflow</td>\n",
       "      <td>danbri</td>\n",
       "      <td>2015-11-09 13:18:49</td>\n",
       "      <td>1</td>\n",
       "    </tr>\n",
       "    <tr>\n",
       "      <th>2</th>\n",
       "      <td>2.0</td>\n",
       "      <td>tensorflow/tensorflow</td>\n",
       "      <td>rockt</td>\n",
       "      <td>2015-11-09 13:40:12</td>\n",
       "      <td>1</td>\n",
       "    </tr>\n",
       "    <tr>\n",
       "      <th>3</th>\n",
       "      <td>3.0</td>\n",
       "      <td>tensorflow/tensorflow</td>\n",
       "      <td>petro-rudenko</td>\n",
       "      <td>2015-11-09 13:40:58</td>\n",
       "      <td>1</td>\n",
       "    </tr>\n",
       "    <tr>\n",
       "      <th>4</th>\n",
       "      <td>4.0</td>\n",
       "      <td>huggingface/transformers</td>\n",
       "      <td>kashif</td>\n",
       "      <td>2018-11-05 15:19:44</td>\n",
       "      <td>1</td>\n",
       "    </tr>\n",
       "    <tr>\n",
       "      <th>...</th>\n",
       "      <td>...</td>\n",
       "      <td>...</td>\n",
       "      <td>...</td>\n",
       "      <td>...</td>\n",
       "      <td>...</td>\n",
       "    </tr>\n",
       "    <tr>\n",
       "      <th>22020</th>\n",
       "      <td>NaN</td>\n",
       "      <td>NicolasHug/Surprise</td>\n",
       "      <td>fly51fly</td>\n",
       "      <td>2023-11-27 19:39:14</td>\n",
       "      <td>0</td>\n",
       "    </tr>\n",
       "    <tr>\n",
       "      <th>22021</th>\n",
       "      <td>NaN</td>\n",
       "      <td>activeloopai/deeplake</td>\n",
       "      <td>fly51fly</td>\n",
       "      <td>2023-11-27 19:39:36</td>\n",
       "      <td>1</td>\n",
       "    </tr>\n",
       "    <tr>\n",
       "      <th>22022</th>\n",
       "      <td>NaN</td>\n",
       "      <td>Yorko/mlcourse.ai</td>\n",
       "      <td>fly51fly</td>\n",
       "      <td>2023-11-27 19:39:37</td>\n",
       "      <td>1</td>\n",
       "    </tr>\n",
       "    <tr>\n",
       "      <th>22023</th>\n",
       "      <td>NaN</td>\n",
       "      <td>SerpentAI/SerpentAI</td>\n",
       "      <td>fly51fly</td>\n",
       "      <td>2023-11-27 19:39:38</td>\n",
       "      <td>1</td>\n",
       "    </tr>\n",
       "    <tr>\n",
       "      <th>22024</th>\n",
       "      <td>NaN</td>\n",
       "      <td>bbfamily/abu</td>\n",
       "      <td>fly51fly</td>\n",
       "      <td>2023-12-04 20:45:49</td>\n",
       "      <td>1</td>\n",
       "    </tr>\n",
       "  </tbody>\n",
       "</table>\n",
       "<p>22025 rows × 5 columns</p>\n",
       "</div>"
      ],
      "text/plain": [
       "       index                repository           user                 date  \\\n",
       "0        0.0     tensorflow/tensorflow           mrry  2015-11-09 13:17:30   \n",
       "1        1.0     tensorflow/tensorflow         danbri  2015-11-09 13:18:49   \n",
       "2        2.0     tensorflow/tensorflow          rockt  2015-11-09 13:40:12   \n",
       "3        3.0     tensorflow/tensorflow  petro-rudenko  2015-11-09 13:40:58   \n",
       "4        4.0  huggingface/transformers         kashif  2018-11-05 15:19:44   \n",
       "...      ...                       ...            ...                  ...   \n",
       "22020    NaN       NicolasHug/Surprise       fly51fly  2023-11-27 19:39:14   \n",
       "22021    NaN     activeloopai/deeplake       fly51fly  2023-11-27 19:39:36   \n",
       "22022    NaN         Yorko/mlcourse.ai       fly51fly  2023-11-27 19:39:37   \n",
       "22023    NaN       SerpentAI/SerpentAI       fly51fly  2023-11-27 19:39:38   \n",
       "22024    NaN              bbfamily/abu       fly51fly  2023-12-04 20:45:49   \n",
       "\n",
       "       like  \n",
       "0         1  \n",
       "1         1  \n",
       "2         1  \n",
       "3         1  \n",
       "4         1  \n",
       "...     ...  \n",
       "22020     0  \n",
       "22021     1  \n",
       "22022     1  \n",
       "22023     1  \n",
       "22024     1  \n",
       "\n",
       "[22025 rows x 5 columns]"
      ]
     },
     "execution_count": 7,
     "metadata": {},
     "output_type": "execute_result"
    }
   ],
   "source": [
    "df_int"
   ]
  },
  {
   "cell_type": "markdown",
   "metadata": {},
   "source": [
    "# Trabajando con los lenguajes\n",
    "\n",
    "Se trabaja con los lenguajes de programación"
   ]
  },
  {
   "cell_type": "code",
   "execution_count": 44,
   "metadata": {},
   "outputs": [],
   "source": [
    "df_languaje_dummies = original_df_items.language.str.get_dummies(sep=\";\")\n",
    "df_perfil_items = pd.concat([df_items, df_languaje_dummies], axis=1)\n",
    "\n",
    "# este perfil se puede precalcular offline y modificarlo ante cada cambio\n",
    "df_perfil_items"
   ]
  },
  {
   "cell_type": "code",
   "execution_count": 81,
   "metadata": {},
   "outputs": [
    {
     "data": {
      "text/plain": [
       "Python              0.201657\n",
       "Shell               0.129834\n",
       "Dockerfile          0.082873\n",
       "Jupyter Notebook    0.066298\n",
       "HTML                0.052486\n",
       "                      ...   \n",
       "GDB                 0.000000\n",
       "PureBasic           0.000000\n",
       "GAP                 0.000000\n",
       "Jsonnet             0.000000\n",
       "AIDL                0.000000\n",
       "Length: 99, dtype: float64"
      ]
     },
     "execution_count": 81,
     "metadata": {},
     "output_type": "execute_result"
    }
   ],
   "source": [
    "username = \"fly51fly\" # usuario de quien construiremos el perfil\n",
    "repos_user = df_int.loc[\n",
    "    (df_int[\"user\"] == username)\n",
    "    & (df_int[\"like\"] == 1),\n",
    "    \"repository\"].to_list()\n",
    "\n",
    "# me quedo con el perfil del usuario de los repos que le gustaron\n",
    "#perfil_user = df_perfil_items[df_perfil_items[\"id\"].isin(repos_user)].drop(columns=[\"id\", \"index\"]).sum(axis=0).sort_values(ascending=False)\n",
    "#perfil_user = df_perfil_items[df_perfil_items[\"id\"].isin(repos_user)].drop(columns=[\"id\", \"index\"]).sum(axis=0)#.reset_index()\n",
    "perfil_user = df_perfil_items[df_perfil_items[\"id\"].isin(repos_user)].drop(columns=[\"id\", \"index\", \"stars\", \"watchers\", \"forks\", \"issues\", \"subscribers\"]).sum(axis=0).sort_values(ascending=False)\n",
    "perfil_user = perfil_user / perfil_user.sum() # normalizo\n",
    "\n",
    "# este perfil se puede precalcular offline y modificarlo ante cada cambio\n",
    "perfil_user\n",
    "\n",
    "\n",
    "#df_perfil = pd.concat([df_perfil, df_perfil_items[\"id\"]], axis=1)\n",
    "#df_perfil_items"
   ]
  },
  {
   "cell_type": "code",
   "execution_count": 86,
   "metadata": {},
   "outputs": [
    {
     "data": {
      "text/plain": [
       "['pytorch/pytorch',\n",
       " 'catboost/catboost',\n",
       " 'ray-project/ray',\n",
       " 'TarrySingh/Artificial-Intelligence-Deep-Learning-Machine-Learning-Tutorials',\n",
       " 'spmallick/learnopencv',\n",
       " 'h2oai/h2o-3',\n",
       " 'tensorflow/tensorflow',\n",
       " 'microsoft/computervision-recipes',\n",
       " 'mage-ai/mage-ai',\n",
       " 'microsoft/CNTK']"
      ]
     },
     "execution_count": 86,
     "metadata": {},
     "output_type": "execute_result"
    }
   ],
   "source": [
    "df_perfil_user = df_perfil_items.drop(columns=[\"index\", \"stars\", \"watchers\", \"forks\", \"issues\", \"subscribers\"]).set_index(\"id\").copy()\n",
    "\n",
    "# por ahora dimension son lenguajes, pero podria haber topics\n",
    "for dimension in df_perfil_user.columns:\n",
    "    #print(perfil_user[dimension])\n",
    "    df_perfil_user[dimension] = df_perfil_user[dimension] * perfil_user[dimension]\n",
    "\n",
    "recomendacion = df_perfil_user.sum(axis=1).sort_values(ascending=False)[:10].index\n",
    "list(recomendacion)"
   ]
  }
 ],
 "metadata": {
  "kernelspec": {
   "display_name": ".venv",
   "language": "python",
   "name": "python3"
  },
  "language_info": {
   "codemirror_mode": {
    "name": "ipython",
    "version": 3
   },
   "file_extension": ".py",
   "mimetype": "text/x-python",
   "name": "python",
   "nbconvert_exporter": "python",
   "pygments_lexer": "ipython3",
   "version": "3.10.12"
  }
 },
 "nbformat": 4,
 "nbformat_minor": 2
}
